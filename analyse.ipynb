{
 "cells": [
  {
   "cell_type": "markdown",
   "id": "e58dd8c2",
   "metadata": {},
   "source": [
    "# Importações"
   ]
  },
  {
   "cell_type": "code",
   "execution_count": null,
   "id": "bbbc4137",
   "metadata": {},
   "outputs": [],
   "source": [
    "import os\n",
    "import pandas as pd\n",
    "from datetime import datetime\n",
    "import matplotlib.pyplot as plt\n",
    "from collections import defaultdict\n",
    "from dateutil.relativedelta import relativedelta\n",
    "from api_github import listar_arquivos_config"
   ]
  },
  {
   "cell_type": "markdown",
   "id": "2e8f311c",
   "metadata": {},
   "source": [
    "# Criação de Dataframes"
   ]
  },
  {
   "cell_type": "code",
   "execution_count": null,
   "id": "19d0df5a",
   "metadata": {},
   "outputs": [],
   "source": [
    "# Arquivos\n",
    "f_details = 'projects_2025_rpa_by_code_details.csv'\n",
    "df_details = pd.read_csv(f_details)"
   ]
  },
  {
   "cell_type": "code",
   "execution_count": null,
   "id": "bbea0c42",
   "metadata": {},
   "outputs": [],
   "source": [
    "display(df_details)"
   ]
  },
  {
   "cell_type": "markdown",
   "id": "bef42b4b",
   "metadata": {},
   "source": [
    "# Funções"
   ]
  },
  {
   "cell_type": "markdown",
   "id": "acf55abe",
   "metadata": {},
   "source": [
    "## Filtro por Estrelas"
   ]
  },
  {
   "cell_type": "code",
   "execution_count": null,
   "id": "26265843",
   "metadata": {},
   "outputs": [],
   "source": [
    "def filter_stars(df: pd.DataFrame, stars: int) -> pd.DataFrame:\n",
    "    df_filtered = df[df['stargazers'] >= stars].copy()\n",
    "    return df_filtered"
   ]
  },
  {
   "cell_type": "markdown",
   "id": "68faa7fd",
   "metadata": {},
   "source": [
    "## Filtro por Atividade"
   ]
  },
  {
   "cell_type": "code",
   "execution_count": null,
   "id": "9a5eaa23",
   "metadata": {},
   "outputs": [],
   "source": [
    "def filter_pushed(df: pd.DataFrame, m: int) -> pd.DataFrame:\n",
    "    df['pushedAt'] = pd.to_datetime(df['pushedAt'], utc=True, errors='coerce')\n",
    "    months_ago = pd.Timestamp.now(tz='UTC') - relativedelta(months=m)\n",
    "    df_filtered = df[df['pushedAt'] >= months_ago]\n",
    "    return df_filtered"
   ]
  },
  {
   "cell_type": "markdown",
   "id": "3143151e",
   "metadata": {},
   "source": [
    "## Filtro por Issues"
   ]
  },
  {
   "cell_type": "code",
   "execution_count": null,
   "id": "f2561792",
   "metadata": {},
   "outputs": [],
   "source": [
    "def filter_issues(df: pd.DataFrame, issues: int) -> pd.DataFrame:\n",
    "    # Garante que a coluna 'issues' está numérica\n",
    "    df['issues'] = pd.to_numeric(df['issues'], errors='coerce')\n",
    "    \n",
    "    # Filtra os repositórios\n",
    "    df_filtered = df[df['issues'] >= issues]\n",
    "    \n",
    "    return df_filtered"
   ]
  },
  {
   "cell_type": "markdown",
   "id": "e67ccdf2",
   "metadata": {},
   "source": [
    "## Top Linguagens Mais Usadas"
   ]
  },
  {
   "cell_type": "code",
   "execution_count": null,
   "id": "36290add",
   "metadata": {},
   "outputs": [],
   "source": [
    "def plot_linguagens_mais_usadas(df, top_n=10):\n",
    "    \"\"\"\n",
    "    Gera um gráfico de barras com as linguagens mais usadas nos repositórios.\n",
    "    \n",
    "    Parâmetros:\n",
    "        df (pd.DataFrame): DataFrame contendo a coluna 'primaryLanguage'\n",
    "        top_n (int): número de linguagens mais frequentes a exibir (default: 10)\n",
    "    \n",
    "    Retorno:\n",
    "        None (exibe o gráfico)\n",
    "    \"\"\"\n",
    "    # Contar as linguagens mais usadas\n",
    "    contagem = df['primaryLanguage'].dropna().value_counts().head(top_n)\n",
    "    \n",
    "    # Criar o gráfico\n",
    "    plt.figure(figsize=(10, 6))\n",
    "    bars = plt.bar(contagem.index, contagem.values, color='mediumseagreen', edgecolor='black')\n",
    "\n",
    "    # Título e eixos\n",
    "    plt.title(f\"Top {top_n} Linguagens Mais Usadas\")\n",
    "    plt.xlabel(\"Linguagem\")\n",
    "    plt.ylabel(\"Número de Repositórios\")\n",
    "    plt.xticks(rotation=45)\n",
    "    plt.grid(axis='y', linestyle='--', alpha=0.7)\n",
    "\n",
    "    # Adicionar os rótulos numéricos nas barras\n",
    "    for bar in bars:\n",
    "        height = bar.get_height()\n",
    "        plt.text(bar.get_x() + bar.get_width()/2, height + 0.5, f'{int(height)}', \n",
    "                 ha='center', va='bottom', fontsize=9)\n",
    "\n",
    "    plt.tight_layout()\n",
    "    plt.show()"
   ]
  },
  {
   "cell_type": "markdown",
   "id": "a6844030",
   "metadata": {},
   "source": [
    "## Top Repositórios com Mais Estrelas"
   ]
  },
  {
   "cell_type": "code",
   "execution_count": null,
   "id": "bf38e56b",
   "metadata": {},
   "outputs": [],
   "source": [
    "def plot_top_repos_mais_estrelas(df, top_n=10):\n",
    "    \"\"\"\n",
    "    Gera um gráfico de barras horizontal com os repositórios com mais estrelas.\n",
    "    Exibe a linguagem ao lado do nome do repositório.\n",
    "    \n",
    "    Parâmetros:\n",
    "        df (pd.DataFrame): DataFrame com colunas 'repository', 'primaryLanguage' e 'stargazers'\n",
    "        top_n (int): número de repositórios a exibir (default: 10)\n",
    "    \n",
    "    Retorno:\n",
    "        None (exibe o gráfico)\n",
    "    \"\"\"\n",
    "    # Garantir que 'stargazers' é numérico\n",
    "    df['stargazers'] = pd.to_numeric(df['stargazers'], errors='coerce').fillna(0)\n",
    "\n",
    "    # Criar coluna de rótulo: nome (linguagem)\n",
    "    df['repositorio'] = df.apply(\n",
    "        lambda row: f\"{row['repository']} ({row['primaryLanguage']})\" if pd.notna(row['primaryLanguage']) else row['repository'],\n",
    "        axis=1\n",
    "    )\n",
    "\n",
    "    # Ordenar e pegar os top N\n",
    "    top_repos = df[['repositorio', 'stargazers']].sort_values(by='stargazers', ascending=False).head(top_n)\n",
    "\n",
    "    # Plotar gráfico horizontal\n",
    "    plt.figure(figsize=(10, 6))\n",
    "    bars = plt.barh(top_repos['repositorio'], top_repos['stargazers'], color='cornflowerblue', edgecolor='black')\n",
    "    plt.xlabel(\"Número de Estrelas\")\n",
    "    plt.title(f\"Top {top_n} Repositórios com Mais Estrelas\")\n",
    "    plt.gca().invert_yaxis()  # Repositórios mais estrelados no topo\n",
    "    plt.grid(axis='x', linestyle='--', alpha=0.7)\n",
    "\n",
    "    # Adicionar os valores ao lado das barras\n",
    "    for bar in bars:\n",
    "        width = bar.get_width()\n",
    "        plt.text(width + 5, bar.get_y() + bar.get_height()/2, f'{int(width)}', va='center', fontsize=9)\n",
    "\n",
    "    plt.tight_layout()\n",
    "    plt.show()\n"
   ]
  },
  {
   "cell_type": "markdown",
   "id": "2cb4a414",
   "metadata": {},
   "source": [
    "## Extensões mais usadas em arquivos de configuração"
   ]
  },
  {
   "cell_type": "code",
   "execution_count": null,
   "id": "469c6884",
   "metadata": {},
   "outputs": [],
   "source": [
    "def extensao_mais_frequente_por_repositorio(df):\n",
    "    \"\"\"\n",
    "    Retorna um DataFrame com a extensão mais frequente para cada repositório.\n",
    "    \n",
    "    Parâmetros:\n",
    "    df (pd.DataFrame): DataFrame de entrada contendo as colunas 'repositorio' e 'extensão'\n",
    "    \n",
    "    Retorna:\n",
    "    pd.DataFrame: DataFrame com as colunas 'repositorio' e 'extensão_mais_frequente'\n",
    "    \"\"\"\n",
    "    # Verifica se as colunas necessárias existem no DataFrame\n",
    "    if not all(col in df.columns for col in ['repositorio', 'extensao']):\n",
    "        raise ValueError(\"O DataFrame deve conter as colunas 'repositorio' e 'extensao'\")\n",
    "    \n",
    "    # Normaliza o nome da extensão .yml\n",
    "    df.replace(to_replace='.yaml', value='.yml', inplace=True)\n",
    "    \n",
    "    # Agrupa por repositório e extensão, conta as ocorrências e pega a extensão mais frequente\n",
    "    resultado = (\n",
    "        df.groupby(['repositorio', 'extensao'])\n",
    "        .size()\n",
    "        .reset_index(name='contagem')\n",
    "        .sort_values(['repositorio', 'contagem'], ascending=[True, False])\n",
    "        .drop_duplicates('repositorio')\n",
    "        .rename(columns={'extensao': 'extensao_mais_frequente'})\n",
    "        [['repositorio', 'extensao_mais_frequente']]\n",
    "    )\n",
    "    \n",
    "    return resultado"
   ]
  },
  {
   "cell_type": "markdown",
   "id": "8277843a",
   "metadata": {},
   "source": [
    "## Gráfico Rosquinha para o Agrupamento de Extensões"
   ]
  },
  {
   "cell_type": "code",
   "execution_count": null,
   "id": "cd751c3d",
   "metadata": {},
   "outputs": [],
   "source": [
    "def plotar_rosquinha_extensoes(df, coluna_extensao, titulo='Distribuição de Extensões', cores=None, sombra=True, explode=0.01):\n",
    "    \"\"\"\n",
    "    Cria um gráfico tipo rosquinha (donut) mostrando a distribuição de extensões de arquivos.\n",
    "    \n",
    "    Parâmetros:\n",
    "    df (pd.DataFrame): DataFrame contendo os dados\n",
    "    coluna_extensao (str): Nome da coluna com as extensões de arquivo\n",
    "    titulo (str): Título do gráfico (opcional)\n",
    "    cores (list): Lista de cores para as fatias (opcional)\n",
    "    sombra (bool): Se True, adiciona sombra ao gráfico (opcional)\n",
    "    explode (float): Valor para separar as fatias (0 para nenhuma separação)\n",
    "    \"\"\"\n",
    "    \n",
    "    # Verifica se a coluna existe no DataFrame\n",
    "    if coluna_extensao not in df.columns:\n",
    "        raise ValueError(f\"A coluna '{coluna_extensao}' deve existir no DataFrame\")\n",
    "    \n",
    "    # Calcula a contagem de cada extensão\n",
    "    contagem_extensoes = df[coluna_extensao].value_counts().reset_index()\n",
    "    contagem_extensoes.columns = ['Extensao', 'Quantidade']\n",
    "    \n",
    "    # Se houver muitas extensões, agrupa as menos frequentes em \"Outros\"\n",
    "    if len(contagem_extensoes) > 10:\n",
    "        top_extensoes = contagem_extensoes.head(9)\n",
    "        outras = pd.DataFrame({\n",
    "            'Extensao': ['Outros'],\n",
    "            'Quantidade': [contagem_extensoes['Quantidade'][9:].sum()]\n",
    "        })\n",
    "        contagem_extensoes = pd.concat([top_extensoes, outras])\n",
    "    \n",
    "    # Configuração do gráfico\n",
    "    fig, ax = plt.subplots(figsize=(10, 8))\n",
    "    \n",
    "    # Cria o gráfico de rosquinha\n",
    "    wedges, texts, autotexts = ax.pie(\n",
    "        contagem_extensoes['Quantidade'],\n",
    "        labels=contagem_extensoes['Extensao'],\n",
    "        autopct=lambda p: '{:.1f}%\\n({:.0f})'.format(p, p * sum(contagem_extensoes['Quantidade']) / 100),\n",
    "        startangle=90,\n",
    "        colors=cores,\n",
    "        shadow=sombra,\n",
    "        explode=[explode] * len(contagem_extensoes),\n",
    "        wedgeprops={'width': 0.4, 'edgecolor': 'white'},\n",
    "        textprops={'fontsize': 9}\n",
    "    )\n",
    "    \n",
    "    # Ajusta o estilo dos textos - Versão com alinhamento modificado\n",
    "    plt.setp(autotexts, size=8, weight=\"bold\", color='black',\n",
    "        horizontalalignment='left', verticalalignment='center')\n",
    "    plt.setp(texts, size=9, horizontalalignment='center', verticalalignment='center')\n",
    "    \n",
    "    # Adiciona título e legenda\n",
    "    ax.set_title(titulo, pad=20, fontsize=14, fontweight='bold')\n",
    "    plt.legend(\n",
    "        wedges,\n",
    "        contagem_extensoes['Extensao'],\n",
    "        title=\"Extensões\",\n",
    "        loc=\"center left\",\n",
    "        bbox_to_anchor=(1, 0, 0.5, 1))\n",
    "    \n",
    "    # Garante que o gráfico seja desenhado como círculo\n",
    "    ax.axis('equal')\n",
    "    \n",
    "    # Mostra o gráfico\n",
    "    plt.tight_layout()\n",
    "    plt.show()"
   ]
  },
  {
   "cell_type": "markdown",
   "id": "f8f83fe2",
   "metadata": {},
   "source": [
    "## Gráfico de Pizza para a Proporção do Uso de Diretório de Configuração"
   ]
  },
  {
   "cell_type": "code",
   "execution_count": null,
   "id": "0cda70b2",
   "metadata": {},
   "outputs": [],
   "source": [
    "def plot_pizza_coluna_booleana(df, coluna, titulo=\"Distribuição booleana\"):\n",
    "    \"\"\"\n",
    "    Gera um gráfico de pizza para uma coluna booleana de um DataFrame.\n",
    "    \n",
    "    Parâmetros:\n",
    "        df (pd.DataFrame): DataFrame contendo a coluna booleana\n",
    "        coluna (str): nome da coluna booleana\n",
    "        titulo (str): título do gráfico (opcional)\n",
    "    \n",
    "    Retorno:\n",
    "        None (exibe o gráfico)\n",
    "    \"\"\"\n",
    "    # Contar valores True e False\n",
    "    contagem = df[coluna].value_counts().sort_index()\n",
    "\n",
    "    # Criar rótulos amigáveis\n",
    "    labels = ['Não utilizam', 'Utilizam']\n",
    "    valores = [contagem.get(False, 0), contagem.get(True, 0)]\n",
    "\n",
    "    # Plotar\n",
    "    plt.figure(figsize=(6, 6))\n",
    "    plt.pie(valores, labels=labels, autopct='%1.1f%%', colors=['lightcoral', 'mediumseagreen'], startangle=90)\n",
    "    plt.title(titulo)\n",
    "    plt.axis('equal')  # Mantém o círculo redondo\n",
    "    plt.show()"
   ]
  },
  {
   "cell_type": "markdown",
   "id": "38cf1446",
   "metadata": {},
   "source": [
    "# Análises"
   ]
  },
  {
   "cell_type": "markdown",
   "id": "089a5983",
   "metadata": {},
   "source": [
    "## Parâmetros"
   ]
  },
  {
   "cell_type": "code",
   "execution_count": null,
   "id": "43c8f9bf",
   "metadata": {},
   "outputs": [],
   "source": [
    "stars = 250\n",
    "months = 15\n",
    "token = 'my_token'"
   ]
  },
  {
   "cell_type": "markdown",
   "id": "02376a41",
   "metadata": {},
   "source": [
    "## Filtros"
   ]
  },
  {
   "cell_type": "code",
   "execution_count": null,
   "id": "1164a85f",
   "metadata": {},
   "outputs": [],
   "source": [
    "print('Universo total de amostras:')\n",
    "df_filter = df_details.copy()\n",
    "display(df_filter)\n",
    "\n",
    "print(f'Repositórios com {stars} ou mais estrelas:')\n",
    "df_filter = filter_stars(df_filter, stars)\n",
    "display(df_filter)\n",
    "\n",
    "print(f'Repositórios com atualizações nos últimos {months} meses:')\n",
    "df_filter = filter_pushed(df_filter, months)\n",
    "display(df_filter)"
   ]
  },
  {
   "cell_type": "code",
   "execution_count": null,
   "id": "405fe2ab",
   "metadata": {},
   "outputs": [],
   "source": [
    "display(df_filter[df_filter['issues'] == 0])"
   ]
  },
  {
   "cell_type": "markdown",
   "id": "f8ba1883",
   "metadata": {},
   "source": [
    "## Gráficos"
   ]
  },
  {
   "cell_type": "code",
   "execution_count": null,
   "id": "665dc59e",
   "metadata": {},
   "outputs": [],
   "source": [
    "plot_linguagens_mais_usadas(df_filter, top_n=10)"
   ]
  },
  {
   "cell_type": "code",
   "execution_count": null,
   "id": "81fc47e7",
   "metadata": {},
   "outputs": [],
   "source": [
    "plot_top_repos_mais_estrelas(df_filter, top_n=10)"
   ]
  },
  {
   "cell_type": "code",
   "execution_count": null,
   "id": "d14a093e",
   "metadata": {},
   "outputs": [],
   "source": [
    "# Carregar a planilha (ajuste o nome do arquivo se necessário)\n",
    "df = df_details_stars.copy()\n",
    "\n",
    "# Converter as datas para datetime (considerando formato ISO 8601)\n",
    "df['createdAt'] = pd.to_datetime(df['createdAt'], utc=True, errors='coerce')\n",
    "df['pushedAt'] = pd.to_datetime(df['pushedAt'], utc=True, errors='coerce')\n",
    "\n",
    "# Obter a data atual em UTC\n",
    "now = pd.Timestamp.now(tz='UTC')\n",
    "\n",
    "# Calcular idade em meses (aproximação: 1 mês = 30,44 dias)\n",
    "df['repo_age_months'] = ((now - df['createdAt']).dt.total_seconds()) / (60 * 60 * 24 * 30.44)\n",
    "\n",
    "# Calcular tempo desde o último push (em dias)\n",
    "df['days_since_last_push'] = (now - df['pushedAt']).dt.days\n",
    "\n",
    "# Exibir estatísticas\n",
    "print(\"Resumo estatístico da idade dos repositórios (meses):\")\n",
    "print(df['repo_age_months'].describe())\n",
    "\n",
    "print(\"\\nResumo estatístico do tempo desde o último push (dias):\")\n",
    "print(df['days_since_last_push'].describe())\n",
    "\n",
    "# Gráfico da idade dos repositórios\n",
    "plt.figure(figsize=(10, 5))\n",
    "plt.hist(df['repo_age_months'].dropna(), bins=20, color='steelblue', edgecolor='black')\n",
    "plt.title(\"Distribuição da Idade dos Repositórios (em meses)\")\n",
    "plt.xlabel(\"Idade (meses)\")\n",
    "plt.ylabel(\"Quantidade de Repositórios\")\n",
    "plt.grid(True)\n",
    "plt.show()\n",
    "\n",
    "# Gráfico do tempo desde o último push\n",
    "plt.figure(figsize=(10, 5))\n",
    "plt.hist(df['days_since_last_push'].dropna(), bins=20, color='darkorange', edgecolor='black')\n",
    "plt.title(\"Tempo Desde o Último Push (em dias)\")\n",
    "plt.xlabel(\"Dias desde o último push\")\n",
    "plt.ylabel(\"Quantidade de Repositórios\")\n",
    "plt.grid(True)\n",
    "plt.show()\n"
   ]
  },
  {
   "cell_type": "code",
   "execution_count": null,
   "id": "ab8781a1",
   "metadata": {},
   "outputs": [],
   "source": [
    "display(df)"
   ]
  },
  {
   "cell_type": "markdown",
   "id": "d99b176d",
   "metadata": {},
   "source": [
    "## Perguntas"
   ]
  },
  {
   "cell_type": "markdown",
   "id": "5bbb1ff6",
   "metadata": {},
   "source": [
    "### Quais são os arquivos de configuração mais utilizados?"
   ]
  },
  {
   "cell_type": "markdown",
   "id": "26f7d84a",
   "metadata": {},
   "source": [
    "#### Criar o dataframe com informações sobre arquivos de configuração"
   ]
  },
  {
   "cell_type": "code",
   "execution_count": null,
   "id": "9a688741",
   "metadata": {},
   "outputs": [],
   "source": [
    "# Inicializar listas para coletar dados\n",
    "dados = []\n",
    "\n",
    "# Define pastas consideradas \"organizadoras de configuração\"\n",
    "pastas_config = ('config/', 'configs/', 'settings/', 'env/', 'environments/')\n",
    "\n",
    "# Loop pelos repositórios\n",
    "for idx, repo in df_filter['repository'].items():\n",
    "    # print(f'\\n--- {repo} ---\\n')\n",
    "\n",
    "    arquivos_config = listar_arquivos_config(repo, token)\n",
    "\n",
    "    if arquivos_config:\n",
    "        # print(f\"Arquivos de configuração encontrados em '{repo}':\")\n",
    "        for arq in arquivos_config:\n",
    "            # print(\" -\", arq)\n",
    "\n",
    "            # Extrai extensão (ou '[sem_extensao]' se não tiver)\n",
    "            extensao = os.path.splitext(arq)[1].lower() or '[sem_extensao]'\n",
    "\n",
    "            # Verifica se está em uma pasta de configuração\n",
    "            em_pasta_config = any(arq.lower().startswith(pasta) for pasta in pastas_config)\n",
    "\n",
    "            # Armazena no formato estruturado\n",
    "            dados.append({\n",
    "                'repositorio': repo,\n",
    "                'arquivo': arq,\n",
    "                'extensao': extensao,\n",
    "                'em_pasta_config': em_pasta_config\n",
    "            })\n",
    "    else:\n",
    "        print(f\"Nenhum arquivo de configuração encontrado em '{repo}'.\")\n",
    "\n",
    "# Criar DataFrame com os resultados\n",
    "df_config = pd.DataFrame(dados)\n",
    "\n",
    "# Exibir um resumo dos dados\n",
    "# print(\"\\nAmostra dos arquivos de configuração identificados:\")\n",
    "# print(df_config.head())\n",
    "\n",
    "# Contagem por tipo de extensão\n",
    "# print(\"\\nExtensões mais comuns:\")\n",
    "# print(df_config['extensao'].value_counts())\n",
    "\n",
    "# Porcentagem de arquivos organizados em pastas de configuração\n",
    "# percentual_organizados = df_config['em_pasta_config'].mean() * 100\n",
    "# print(f\"\\n{percentual_organizados:.1f}% dos arquivos de configuração estão organizados em pastas dedicadas.\")\n"
   ]
  },
  {
   "cell_type": "code",
   "execution_count": null,
   "id": "81ac7f75",
   "metadata": {},
   "outputs": [],
   "source": [
    "display(df_config)"
   ]
  },
  {
   "cell_type": "markdown",
   "id": "9ac2c545",
   "metadata": {},
   "source": [
    "#### Agrupa o dataframe de acordo o tipo de arquivo"
   ]
  },
  {
   "cell_type": "code",
   "execution_count": null,
   "id": "688f5f75",
   "metadata": {},
   "outputs": [],
   "source": [
    "df_group = extensao_mais_frequente_por_repositorio(df_config)\n",
    "display(df_group)"
   ]
  },
  {
   "cell_type": "markdown",
   "id": "f9267613",
   "metadata": {},
   "source": [
    "#### Gera o gráfico das extensões agrupadas"
   ]
  },
  {
   "cell_type": "code",
   "execution_count": null,
   "id": "d0a5d91a",
   "metadata": {},
   "outputs": [],
   "source": [
    "plotar_rosquinha_extensoes(df=df_group, coluna_extensao='extensao_mais_frequente', titulo='Principais Extensões em Arquivos de Configuração por Repositório')"
   ]
  },
  {
   "cell_type": "markdown",
   "id": "e7c82228",
   "metadata": {},
   "source": [
    "#### Agrupa o dataframe de acordo com uso de um diretório dedicado"
   ]
  },
  {
   "cell_type": "code",
   "execution_count": null,
   "id": "31534898",
   "metadata": {},
   "outputs": [],
   "source": [
    "df_group = df_config[['repositorio','em_pasta_config']].copy()\n",
    "df_group = pd.DataFrame(df_group.groupby('repositorio')['em_pasta_config'].any())\n",
    "display(df_group)"
   ]
  },
  {
   "cell_type": "markdown",
   "id": "880afd0d",
   "metadata": {},
   "source": [
    "#### Gera o gráfica da proporção gerada"
   ]
  },
  {
   "cell_type": "code",
   "execution_count": null,
   "id": "b05dc5b9",
   "metadata": {},
   "outputs": [],
   "source": [
    "plot_pizza_coluna_booleana(df=df_group,coluna='em_pasta_config',titulo='Proporção de Repositórios que Utilizam um Diretório Dedicado a Arquivos de Configuração')"
   ]
  }
 ],
 "metadata": {
  "kernelspec": {
   "display_name": "Python 3",
   "language": "python",
   "name": "python3"
  },
  "language_info": {
   "codemirror_mode": {
    "name": "ipython",
    "version": 3
   },
   "file_extension": ".py",
   "mimetype": "text/x-python",
   "name": "python",
   "nbconvert_exporter": "python",
   "pygments_lexer": "ipython3",
   "version": "3.12.10"
  }
 },
 "nbformat": 4,
 "nbformat_minor": 5
}
